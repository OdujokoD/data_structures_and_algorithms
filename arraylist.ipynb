{
 "cells": [
  {
   "cell_type": "code",
   "execution_count": 1,
   "metadata": {
    "collapsed": true
   },
   "outputs": [],
   "source": [
    "# Implementation of ArrayList (dynamic array) Data Structure\n",
    "# Author: Oluwadamilola Odujoko"
   ]
  },
  {
   "cell_type": "markdown",
   "metadata": {},
   "source": [
    "# TODO\n",
    "* Create Array method: This would make use of the ctype python object to create the arraylist data structure\n",
    "* Initialization (constructor): This contains the size, the arraylist object and the current length of the arraylist object\n",
    "* Length method: This would return the size of the arraylist\n",
    "* Get method: This would be used to fetch element from the arraylist\n",
    "* Resize method: This would be used to copy the old and small arraylist into the new and bigger arraylist\n",
    "* Add method: This will be used to add element to the arraylist\n",
    "\n",
    "**Note**: Array and ArrayList are used interchangeably because arraylist is just an array with a *resize* method. That is, the resize method is the major difference between an array and arraylist."
   ]
  },
  {
   "cell_type": "markdown",
   "metadata": {},
   "source": [
    "## Create Array\n",
    "\n",
    "Here, we make use of the `ctypes` library. This gives us the ability to get into a low level state in order to create the ArrayList data structure, rather than making use of the python `List`. Just for fun, a quick look at the `ctypes` library:"
   ]
  },
  {
   "cell_type": "code",
   "execution_count": 2,
   "metadata": {
    "collapsed": false
   },
   "outputs": [
    {
     "data": {
      "text/plain": [
       "c_long(4)"
      ]
     },
     "execution_count": 2,
     "metadata": {},
     "output_type": "execute_result"
    }
   ],
   "source": [
    "import ctypes\n",
    "\n",
    "a = ctypes.c_int(4)\n",
    "a"
   ]
  },
  {
   "cell_type": "code",
   "execution_count": 3,
   "metadata": {
    "collapsed": false
   },
   "outputs": [
    {
     "data": {
      "text/plain": [
       "4"
      ]
     },
     "execution_count": 3,
     "metadata": {},
     "output_type": "execute_result"
    }
   ],
   "source": [
    "a.value"
   ]
  },
  {
   "cell_type": "markdown",
   "metadata": {},
   "source": [
    "By default python determines the data type of a variable at runtime (or execution. I need to confirm this), that is, it's `loosely typed`. However using `ctypes`changes that behavior. It makes it `statically/strongly typed`. How then can this be used to create an array? Just multiply by the size you which to have. Let's create an array of size 5:"
   ]
  },
  {
   "cell_type": "code",
   "execution_count": 4,
   "metadata": {
    "collapsed": false
   },
   "outputs": [
    {
     "data": {
      "text/plain": [
       "__main__.c_long_Array_5"
      ]
     },
     "execution_count": 4,
     "metadata": {},
     "output_type": "execute_result"
    }
   ],
   "source": [
    "b = 5 * ctypes.c_int\n",
    "b"
   ]
  },
  {
   "cell_type": "markdown",
   "metadata": {},
   "source": [
    "Unlike in `Out[2]`, you can see that `Out[4]` has `_Array_5`. That is, an array of size 5. Now let's access and add data to the array:"
   ]
  },
  {
   "cell_type": "code",
   "execution_count": 5,
   "metadata": {
    "collapsed": false
   },
   "outputs": [
    {
     "ename": "TypeError",
     "evalue": "'_ctypes.PyCArrayType' object does not support indexing",
     "output_type": "error",
     "traceback": [
      "\u001b[0;31m---------------------------------------------------------------------------\u001b[0m",
      "\u001b[0;31mTypeError\u001b[0m                                 Traceback (most recent call last)",
      "\u001b[0;32m<ipython-input-5-422167f1cdee>\u001b[0m in \u001b[0;36m<module>\u001b[0;34m()\u001b[0m\n\u001b[0;32m----> 1\u001b[0;31m \u001b[0mb\u001b[0m\u001b[1;33m[\u001b[0m\u001b[1;36m0\u001b[0m\u001b[1;33m]\u001b[0m\u001b[1;33m\u001b[0m\u001b[0m\n\u001b[0m",
      "\u001b[0;31mTypeError\u001b[0m: '_ctypes.PyCArrayType' object does not support indexing"
     ]
    }
   ],
   "source": [
    "b[0]"
   ]
  },
  {
   "cell_type": "markdown",
   "metadata": {},
   "source": [
    "Ooh! Ooh!! Why can't we index an array? Back to `Out[4]`. You would notice, it has a method `__main__` before the data type. This simply implies we have to call the expression as a method:"
   ]
  },
  {
   "cell_type": "code",
   "execution_count": 6,
   "metadata": {
    "collapsed": false
   },
   "outputs": [
    {
     "data": {
      "text/plain": [
       "0"
      ]
     },
     "execution_count": 6,
     "metadata": {},
     "output_type": "execute_result"
    }
   ],
   "source": [
    "b = (5 * ctypes.c_int)()\n",
    "b[0]"
   ]
  },
  {
   "cell_type": "markdown",
   "metadata": {},
   "source": [
    "Viola! Now we can access each element in the array with indexing. You would notice it has a default value of zero (`0`). Since python is a loosely typed language, we would also want our ArrayList to be \"loosely typed\". That is, our ArrayList should be able to support any type. How do we achieve this?"
   ]
  },
  {
   "cell_type": "code",
   "execution_count": 7,
   "metadata": {
    "collapsed": false
   },
   "outputs": [
    {
     "data": {
      "text/plain": [
       "ctypes.py_object"
      ]
     },
     "execution_count": 7,
     "metadata": {},
     "output_type": "execute_result"
    }
   ],
   "source": [
    "ctypes.py_object"
   ]
  },
  {
   "cell_type": "markdown",
   "metadata": {},
   "source": [
    "## Create Array Method"
   ]
  },
  {
   "cell_type": "code",
   "execution_count": 8,
   "metadata": {
    "collapsed": true
   },
   "outputs": [],
   "source": [
    "class ArrayList:\n",
    "\n",
    "    @staticmethod\n",
    "    def create_array(size):\n",
    "        return (size * ctypes.py_object)()"
   ]
  },
  {
   "cell_type": "markdown",
   "metadata": {},
   "source": [
    "## Initilization (constructor)\n",
    "Now to the creation of the constructor. Since we are making use of a class for the creation of the ArrayList, the constructor will do the initial \"home keeping\" task of intializing the class variables."
   ]
  },
  {
   "cell_type": "code",
   "execution_count": 9,
   "metadata": {
    "collapsed": true
   },
   "outputs": [],
   "source": [
    "    def __init__(self):\n",
    "        self.size = 0\n",
    "        self.capacity = 1\n",
    "        self.arr = self.create_array(self.capacity)"
   ]
  },
  {
   "cell_type": "markdown",
   "metadata": {},
   "source": [
    "In python, the `__init__` method is used for creating the constructor. The class properties are:\n",
    "* size: the number of element present in the arraylist\n",
    "* capacity: The maximum amount of element the arraylist can accept\n",
    "* arr: The arraylist object. By default it has a capacity of one."
   ]
  },
  {
   "cell_type": "markdown",
   "metadata": {},
   "source": [
    "## Length Method\n",
    "This method returns the `size` of the arraylist"
   ]
  },
  {
   "cell_type": "code",
   "execution_count": 10,
   "metadata": {
    "collapsed": true
   },
   "outputs": [],
   "source": [
    "    def length(self):\n",
    "        return self.size"
   ]
  },
  {
   "cell_type": "markdown",
   "metadata": {},
   "source": [
    "## Get Method\n",
    "This method is used for returning an element provided an index."
   ]
  },
  {
   "cell_type": "code",
   "execution_count": 11,
   "metadata": {
    "collapsed": true
   },
   "outputs": [],
   "source": [
    "    def get(self, index):\n",
    "        if 0 < index >= self.size:\n",
    "            raise IndexError('Index out of bound ')\n",
    "            # return -1\n",
    "        return self.arr[index]"
   ]
  },
  {
   "cell_type": "markdown",
   "metadata": {},
   "source": [
    "The `get` method takes in the `index` as an argument. It checks if the index is not less than zero and not greater than the `size`. `size` was used and not `capacity` because the user should not have access to the index between `size` and `capacity`."
   ]
  },
  {
   "cell_type": "markdown",
   "metadata": {},
   "source": [
    "## Resize Method\n",
    "This method does four things:\n",
    "* Create a new array with a size twice as big as the former\n",
    "* Copy the content of the former array into the new array\n",
    "* Update the value of the `capacity` property\n",
    "* Change the reference of the `arr` object to the new array"
   ]
  },
  {
   "cell_type": "code",
   "execution_count": 12,
   "metadata": {
    "collapsed": true
   },
   "outputs": [],
   "source": [
    "    def resize(self):\n",
    "        new_array = self.create_array(2 * self.capacity)\n",
    "\n",
    "        for i in range(self.capacity):\n",
    "            new_array[i] = self.arr[i]\n",
    "\n",
    "        self.capacity *= 2\n",
    "        self.arr = new_array"
   ]
  },
  {
   "cell_type": "markdown",
   "metadata": {},
   "source": [
    "## Add Method"
   ]
  },
  {
   "cell_type": "code",
   "execution_count": 13,
   "metadata": {
    "collapsed": true
   },
   "outputs": [],
   "source": [
    "    def add(self, element):\n",
    "        if self.size == self.capacity:\n",
    "            self.resize()\n",
    "        self.arr[self.size] = element\n",
    "        self.size += 1"
   ]
  },
  {
   "cell_type": "markdown",
   "metadata": {},
   "source": [
    "This method take in the value to be inserted into the arraylist. First, it checks if the `size` is equal to the `capacity`. This indicates the array is full. It resizes the array if so or adds the element otherwise. The size is updated each time a value is added into the array."
   ]
  }
 ],
 "metadata": {
  "anaconda-cloud": {},
  "kernelspec": {
   "display_name": "Python [conda root]",
   "language": "python",
   "name": "conda-root-py"
  },
  "language_info": {
   "codemirror_mode": {
    "name": "ipython",
    "version": 3
   },
   "file_extension": ".py",
   "mimetype": "text/x-python",
   "name": "python",
   "nbconvert_exporter": "python",
   "pygments_lexer": "ipython3",
   "version": "3.5.2"
  }
 },
 "nbformat": 4,
 "nbformat_minor": 0
}
